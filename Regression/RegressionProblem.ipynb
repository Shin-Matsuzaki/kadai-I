{
 "cells": [
  {
   "cell_type": "markdown",
   "metadata": {},
   "source": [
    "# 回帰問題での評価指標"
   ]
  },
  {
   "cell_type": "markdown",
   "metadata": {
    "heading_collapsed": true
   },
   "source": [
    "## RMSE(Root Mean Squared Error)"
   ]
  },
  {
   "cell_type": "markdown",
   "metadata": {
    "hidden": true
   },
   "source": [
    "二条平均平方根誤差という．定義式は，\n",
    "$$\n",
    "RMSE=\\sqrt{\\dfrac{1}{n}\\sum_{i=1}^n(y_i-\\hat{y_i})^2}\\\\\n",
    "データ数：n　真値：y_1,\\cdots,y_n　予測値：\\hat{y_1},\\cdots,\\hat{y_n}\\\\\n",
    "$$\n",
    "＜特性＞\n",
    "- 元のデータを同じ単位を持つ\n",
    "- 値が0に近いほど精度が高い\n",
    "- RMSEを損失関数としたときの最小化は最小二乗法と等しい\n",
    "- 誤差分布が正規分布であるとき最尤推定に用いたい(外れ値の影響が大きい)"
   ]
  },
  {
   "cell_type": "markdown",
   "metadata": {
    "heading_collapsed": true
   },
   "source": [
    "## MAE(Mean Absolute Error)"
   ]
  },
  {
   "cell_type": "markdown",
   "metadata": {
    "hidden": true
   },
   "source": [
    "平均絶対誤差という.  \n",
    "定義式\n",
    "$$\n",
    "MAE = \\dfrac{1}{n}\\sum_{i=1}^n{|y_i - \\hat{y_i}|}\n",
    "$$\n",
    "＜特性＞\n",
    "- RMSEよりも，データに対するロバスト性が高い(外れ値に影響されにくい)\n",
    "- 平均値は外れ値に影響されるが，中央値は外れ値に対して頑健\n",
    "- 誤差がラプラス分布に従うときの最尤推定に用いたい\n",
    "- RMSEとの比を考えることによっても，モデルの評価を行うことができる  \n",
    "良いモデル＝正規分布に従うようなノイズのみが誤差として残ると考えたとき，  \n",
    "RMSE/MAE ≒ 1.253 となるはず  \n",
    "※ただし，次のようなとき注意が必要\n",
    "    * 誤差の絶対値が大きい場合\n",
    "    * 誤差が正規分布に従わないデータを扱う場合\n",
    "    * データ数が少ない場合"
   ]
  },
  {
   "cell_type": "markdown",
   "metadata": {
    "heading_collapsed": true
   },
   "source": [
    "## R<sup>2</sup>"
   ]
  },
  {
   "cell_type": "markdown",
   "metadata": {
    "hidden": true
   },
   "source": [
    "決定係数という．\n",
    "$$\n",
    "{R^{2}}( \\hat{y} ) := 1 - \\frac{ \\frac{1}{n} \\sum_{i=1}^{n} { ( {y}_i - \\hat{y}_{i} ) }^{2} }{ \\frac{1}{n} \\sum_{i=1}^{n} { ( {y}_i - \\bar{y}) }^{2} }\\\\\n",
    "平均値：\\bar{y}\n",
    "$$\n",
    "＜特性＞\n",
    "- 決定係数は1に近いほどモデルの精度が高いと言える\n",
    "- 絶対評価が容易\n",
    "- 第二項の分母は全変動と呼ばれ，データのばらつき具合を表す．分子は残差変動と呼ばれ，回帰モデルと実測値とのズレを表す"
   ]
  },
  {
   "cell_type": "markdown",
   "metadata": {
    "heading_collapsed": true
   },
   "source": [
    "## 簡単なデータを使って計算"
   ]
  },
  {
   "cell_type": "markdown",
   "metadata": {
    "hidden": true
   },
   "source": [
    "![a](img\\manual_reg.png)"
   ]
  },
  {
   "cell_type": "markdown",
   "metadata": {},
   "source": [
    "## sklearnを使って計算"
   ]
  },
  {
   "cell_type": "code",
   "execution_count": 1,
   "metadata": {
    "ExecuteTime": {
     "end_time": "2019-10-02T04:35:58.886388Z",
     "start_time": "2019-10-02T04:35:53.154147Z"
    }
   },
   "outputs": [],
   "source": [
    "import warnings\n",
    "\n",
    "import matplotlib.pyplot as plt\n",
    "import numpy as np\n",
    "import pandas as pd\n",
    "import seaborn as sns\n",
    "\n",
    "%matplotlib inline"
   ]
  },
  {
   "cell_type": "code",
   "execution_count": 2,
   "metadata": {
    "ExecuteTime": {
     "end_time": "2019-10-02T04:36:00.406770Z",
     "start_time": "2019-10-02T04:35:58.888382Z"
    }
   },
   "outputs": [],
   "source": [
    "# Bostonのデータを使って，モデルの作成と評価を行う\n",
    "from sklearn.datasets import load_boston\n",
    "boston = load_boston()\n",
    "\n",
    "# X:説明変数，y：目的変数\n",
    "X = boston.data[:, 5]\n",
    "y = boston.target"
   ]
  },
  {
   "cell_type": "code",
   "execution_count": 3,
   "metadata": {
    "ExecuteTime": {
     "end_time": "2019-10-02T04:36:00.896063Z",
     "start_time": "2019-10-02T04:36:00.407649Z"
    }
   },
   "outputs": [
    {
     "name": "stdout",
     "output_type": "stream",
     "text": [
      "(404,) (102,)\n",
      "(404,) (102,)\n"
     ]
    },
    {
     "data": {
      "text/plain": [
       "Text(0, 0.5, 'MEDV')"
      ]
     },
     "execution_count": 3,
     "metadata": {},
     "output_type": "execute_result"
    },
    {
     "data": {
      "image/png": "[encoded data removed]",
      "text/plain": [
       "<Figure size 432x288 with 1 Axes>"
      ]
     },
     "metadata": {
      "needs_background": "light"
     },
     "output_type": "display_data"
    }
   ],
   "source": [
    "from sklearn.model_selection import train_test_split\n",
    "\n",
    "# TrainingDataとTestDataに分割\n",
    "X_train, X_test, y_train, y_test = train_test_split(\n",
    "    X, y, train_size=0.8, random_state=0)\n",
    "print(X_train.shape, X_test.shape)\n",
    "print(y_train.shape, y_test.shape)\n",
    "\n",
    "\n",
    "# 可視化\n",
    "sns.scatterplot(X_train, y_train, label='Training data')\n",
    "sns.scatterplot(X_test, y_test, label='Training data')\n",
    "plt.xlabel('RM')\n",
    "plt.ylabel('MEDV')"
   ]
  },
  {
   "cell_type": "code",
   "execution_count": 4,
   "metadata": {
    "ExecuteTime": {
     "end_time": "2019-10-02T04:40:38.472022Z",
     "start_time": "2019-10-02T04:40:38.306310Z"
    }
   },
   "outputs": [
    {
     "data": {
      "text/plain": [
       "LinearRegression(copy_X=True, fit_intercept=True, n_jobs=None, normalize=False)"
      ]
     },
     "execution_count": 4,
     "metadata": {},
     "output_type": "execute_result"
    }
   ],
   "source": [
    "from sklearn.linear_model import LinearRegression\n",
    "linear_regression = LinearRegression()\n",
    "\n",
    "# 学習：未知のパラメータの最適化\n",
    "linear_regression.fit(X_train.reshape(-1,1), y_train)"
   ]
  },
  {
   "cell_type": "code",
   "execution_count": 13,
   "metadata": {
    "ExecuteTime": {
     "end_time": "2019-10-02T04:55:35.884129Z",
     "start_time": "2019-10-02T04:55:35.875152Z"
    }
   },
   "outputs": [
    {
     "name": "stdout",
     "output_type": "stream",
     "text": [
      "RMSE: 6.848894190115315\n",
      " MAE: 4.324740740011389\n",
      " R^2: 0.42394386816456275\n"
     ]
    }
   ],
   "source": [
    "from sklearn.metrics import mean_squared_error, mean_absolute_error, r2_score\n",
    "y_pred = linear_regression.predict(X_test.reshape(-1,1))\n",
    "print(f'RMSE: {mean_squared_error(y_test, y_pred)**0.5}')\n",
    "print(f' MAE: {mean_absolute_error(y_test, y_pred)}')\n",
    "print(f' R^2: {r2_score(y_test, y_pred)}')"
   ]
  },
  {
   "cell_type": "code",
   "execution_count": 14,
   "metadata": {
    "ExecuteTime": {
     "end_time": "2019-10-02T04:55:53.924775Z",
     "start_time": "2019-10-02T04:55:53.919789Z"
    }
   },
   "outputs": [
    {
     "name": "stdout",
     "output_type": "stream",
     "text": [
      "RMSE/MAE: 1.5836542816893293\n"
     ]
    }
   ],
   "source": [
    "# 誤差分布は正規分布に近いか？\n",
    "print(f'RMSE/MAE: {(mean_squared_error(y_test, y_pred)**0.5)/(mean_absolute_error(y_test, y_pred))}')"
   ]
  },
  {
   "cell_type": "markdown",
   "metadata": {},
   "source": [
    "# 参考サイト"
   ]
  },
  {
   "cell_type": "markdown",
   "metadata": {
    "ExecuteTime": {
     "end_time": "2019-10-02T01:32:09.866477Z",
     "start_time": "2019-10-02T01:32:09.860493Z"
    }
   },
   "source": [
    "- 精度評価指標と回帰モデルの評価　[https://funatsu-lab.github.io/open-course-ware/basic-theory/accuracy-index/#rmse](https://funatsu-lab.github.io/open-course-ware/basic-theory/accuracy-index/#rmse)"
   ]
  },
  {
   "cell_type": "markdown",
   "metadata": {},
   "source": [
    "以上"
   ]
  }
 ],
 "metadata": {
  "kernelspec": {
   "display_name": "Python 3",
   "language": "python",
   "name": "python3"
  },
  "language_info": {
   "codemirror_mode": {
    "name": "ipython",
    "version": 3
   },
   "file_extension": ".py",
   "mimetype": "text/x-python",
   "name": "python",
   "nbconvert_exporter": "python",
   "pygments_lexer": "ipython3",
   "version": "3.7.3"
  },
  "toc": {
   "base_numbering": 1,
   "nav_menu": {},
   "number_sections": true,
   "sideBar": true,
   "skip_h1_title": false,
   "title_cell": "Table of Contents",
   "title_sidebar": "Contents",
   "toc_cell": false,
   "toc_position": {},
   "toc_section_display": true,
   "toc_window_display": false
  }
 },
 "nbformat": 4,
 "nbformat_minor": 2
}
